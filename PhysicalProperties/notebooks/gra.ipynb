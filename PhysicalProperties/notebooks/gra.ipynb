{
 "cells": [
  {
   "cell_type": "markdown",
   "metadata": {},
   "source": [
    "# GRA\n",
    "\n",
    "Gamma-ray Attenuation"
   ]
  },
  {
   "cell_type": "code",
   "execution_count": 2,
   "metadata": {},
   "outputs": [
    {
     "name": "stdout",
     "output_type": "stream",
     "text": [
      "The autoreload extension is already loaded. To reload it, use:\n",
      "  %reload_ext autoreload\n"
     ]
    }
   ],
   "source": [
    "# force Jupyter to autoreload modules when they have been edited\n",
    "# this helps keep the iodp module current as it is actively developed.\n",
    "%load_ext autoreload\n",
    "%autoreload 2"
   ]
  },
  {
   "cell_type": "code",
   "execution_count": 3,
   "metadata": {},
   "outputs": [],
   "source": [
    "import sys\n",
    "import os\n",
    "from importlib import reload\n",
    "\n",
    "import pandas as pd\n",
    "import numpy as np\n",
    "import matplotlib.pyplot as plt\n",
    "\n",
    "from iodp import utils\n",
    "\n"
   ]
  },
  {
   "cell_type": "code",
   "execution_count": 4,
   "metadata": {},
   "outputs": [
    {
     "name": "stdout",
     "output_type": "stream",
     "text": [
      "Current working directory: d:\\archive\\hd_files\\data_analysis\\50_laboratory_notebooks\\SOD-Laboratory\\PhysicalProperties\\notebooks\n",
      "New current working directory: d:\\archive\\hd_files\\data_analysis\\50_laboratory_notebooks\\SOD-Laboratory\\PhysicalProperties\n"
     ]
    }
   ],
   "source": [
    "# Ensure we are in the PhysicalProperties root folder\n",
    "if not os.getcwd().endswith(\"PhysicalProperties\"):\n",
    "    print(\"Current working directory:\", os.getcwd())\n",
    "    os.chdir(\"../\")\n",
    "    \n",
    "print(\"New current working directory:\", os.getcwd())"
   ]
  },
  {
   "cell_type": "markdown",
   "metadata": {},
   "source": [
    "# Read GRA .GRA files"
   ]
  },
  {
   "cell_type": "code",
   "execution_count": 16,
   "metadata": {},
   "outputs": [
    {
     "data": {
      "application/vnd.microsoft.datawrangler.viewer.v0+json": {
       "columns": [
        {
         "name": "index",
         "rawType": "int64",
         "type": "integer"
        },
        {
         "name": "offset",
         "rawType": "object",
         "type": "string"
        },
        {
         "name": "density_bulk_gra",
         "rawType": "object",
         "type": "string"
        },
        {
         "name": "total_counts_sec",
         "rawType": "object",
         "type": "string"
        },
        {
         "name": "timestamp",
         "rawType": "object",
         "type": "string"
        }
       ],
       "conversionMethod": "pd.DataFrame",
       "ref": "7f4e01ef-3dfa-4b88-b379-209f1c4b2d1a",
       "rows": [
        [
         "0",
         "4.00",
         "1.263",
         "26457",
         "2023-08-24 14:48:33"
        ],
        [
         "1",
         "6.00",
         "1.264",
         "26439",
         "2023-08-24 14:48:37"
        ],
        [
         "2",
         "8.00",
         "1.336",
         "25580",
         "2023-08-24 14:48:42"
        ],
        [
         "3",
         "10.00",
         "1.348",
         "25438",
         "2023-08-24 14:48:46"
        ],
        [
         "4",
         "12.00",
         "1.330",
         "25648",
         "2023-08-24 14:48:51"
        ],
        [
         "5",
         "14.00",
         "1.359",
         "25307",
         "2023-08-24 14:48:56"
        ],
        [
         "6",
         "16.00",
         "1.368",
         "25203",
         "2023-08-24 14:49:00"
        ],
        [
         "7",
         "18.00",
         "1.327",
         "25685",
         "2023-08-24 14:49:05"
        ],
        [
         "8",
         "20.00",
         "1.369",
         "25185",
         "2023-08-24 14:49:09"
        ],
        [
         "9",
         "22.00",
         "1.385",
         "24999",
         "2023-08-24 14:49:14"
        ],
        [
         "10",
         "24.00",
         "1.420",
         "24594",
         "2023-08-24 14:49:19"
        ],
        [
         "11",
         "26.00",
         "1.385",
         "24996",
         "2023-08-24 14:49:23"
        ],
        [
         "12",
         "28.00",
         "1.383",
         "25022",
         "2023-08-24 14:49:28"
        ],
        [
         "13",
         "30.00",
         "1.394",
         "24894",
         "2023-08-24 14:49:32"
        ],
        [
         "14",
         "32.00",
         "1.388",
         "24962",
         "2023-08-24 14:49:37"
        ],
        [
         "15",
         "34.00",
         "1.389",
         "24954",
         "2023-08-24 14:49:42"
        ],
        [
         "16",
         "36.00",
         "1.382",
         "25039",
         "2023-08-24 14:49:46"
        ],
        [
         "17",
         "38.00",
         "1.386",
         "24993",
         "2023-08-24 14:49:51"
        ],
        [
         "18",
         "40.00",
         "1.401",
         "24818",
         "2023-08-24 14:49:55"
        ],
        [
         "19",
         "42.00",
         "1.370",
         "25171",
         "2023-08-24 14:50:00"
        ],
        [
         "20",
         "44.00",
         "1.353",
         "25376",
         "2023-08-24 14:50:05"
        ],
        [
         "21",
         "46.00",
         "1.355",
         "25345",
         "2023-08-24 14:50:09"
        ],
        [
         "22",
         "48.00",
         "1.393",
         "24913",
         "2023-08-24 14:50:14"
        ],
        [
         "23",
         "50.00",
         "1.459",
         "24160",
         "2023-08-24 14:50:18"
        ],
        [
         "24",
         "52.00",
         "1.423",
         "24567",
         "2023-08-24 14:50:23"
        ],
        [
         "25",
         "54.00",
         "1.444",
         "24324",
         "2023-08-24 14:50:27"
        ],
        [
         "26",
         "56.00",
         "1.503",
         "23676",
         "2023-08-24 14:50:32"
        ],
        [
         "27",
         "58.00",
         "1.531",
         "23368",
         "2023-08-24 14:50:37"
        ],
        [
         "28",
         "60.00",
         "1.564",
         "23010",
         "2023-08-24 14:50:41"
        ],
        [
         "29",
         "62.00",
         "1.621",
         "22419",
         "2023-08-24 14:50:46"
        ],
        [
         "30",
         "64.00",
         "1.445",
         "24319",
         "2023-08-24 14:50:51"
        ],
        [
         "31",
         "66.00",
         "1.519",
         "23493",
         "2023-08-24 14:50:56"
        ],
        [
         "32",
         "68.00",
         "1.460",
         "24144",
         "2023-08-24 14:51:01"
        ],
        [
         "33",
         "70.00",
         "1.425",
         "24542",
         "2023-08-24 14:51:06"
        ],
        [
         "34",
         "72.00",
         "1.416",
         "24642",
         "2023-08-24 14:51:11"
        ],
        [
         "35",
         "74.00",
         "1.404",
         "24778",
         "2023-08-24 14:51:16"
        ],
        [
         "36",
         "76.00",
         "1.384",
         "25011",
         "2023-08-24 14:51:21"
        ],
        [
         "37",
         "78.00",
         "1.443",
         "24341",
         "2023-08-24 14:51:26"
        ],
        [
         "38",
         "80.00",
         "1.510",
         "23593",
         "2023-08-24 14:51:31"
        ],
        [
         "39",
         "82.00",
         "1.507",
         "23630",
         "2023-08-24 14:51:36"
        ],
        [
         "40",
         "84.00",
         "1.480",
         "23924",
         "2023-08-24 14:51:42"
        ],
        [
         "41",
         "86.00",
         "1.379",
         "25069",
         "2023-08-24 14:51:47"
        ],
        [
         "42",
         "88.00",
         "1.367",
         "25209",
         "2023-08-24 14:51:52"
        ],
        [
         "43",
         "90.00",
         "1.378",
         "25076",
         "2023-08-24 14:51:57"
        ],
        [
         "44",
         "92.00",
         "1.374",
         "25133",
         "2023-08-24 14:52:02"
        ],
        [
         "45",
         "94.00",
         "1.392",
         "24925",
         "2023-08-24 14:52:07"
        ],
        [
         "46",
         "96.00",
         "1.407",
         "24753",
         "2023-08-24 14:52:12"
        ],
        [
         "47",
         "98.00",
         "1.425",
         "24547",
         "2023-08-24 14:52:17"
        ],
        [
         "48",
         "100.00",
         "1.438",
         "24395",
         "2023-08-24 14:52:22"
        ],
        [
         "49",
         "102.00",
         "1.448",
         "24283",
         "2023-08-24 14:52:27"
        ]
       ],
       "shape": {
        "columns": 4,
        "rows": 72
       }
      },
      "text/html": [
       "<div>\n",
       "<style scoped>\n",
       "    .dataframe tbody tr th:only-of-type {\n",
       "        vertical-align: middle;\n",
       "    }\n",
       "\n",
       "    .dataframe tbody tr th {\n",
       "        vertical-align: top;\n",
       "    }\n",
       "\n",
       "    .dataframe thead th {\n",
       "        text-align: right;\n",
       "    }\n",
       "</style>\n",
       "<table border=\"1\" class=\"dataframe\">\n",
       "  <thead>\n",
       "    <tr style=\"text-align: right;\">\n",
       "      <th></th>\n",
       "      <th>offset</th>\n",
       "      <th>density_bulk_gra</th>\n",
       "      <th>total_counts_sec</th>\n",
       "      <th>timestamp</th>\n",
       "    </tr>\n",
       "  </thead>\n",
       "  <tbody>\n",
       "    <tr>\n",
       "      <th>0</th>\n",
       "      <td>4.00</td>\n",
       "      <td>1.263</td>\n",
       "      <td>26457</td>\n",
       "      <td>2023-08-24 14:48:33</td>\n",
       "    </tr>\n",
       "    <tr>\n",
       "      <th>1</th>\n",
       "      <td>6.00</td>\n",
       "      <td>1.264</td>\n",
       "      <td>26439</td>\n",
       "      <td>2023-08-24 14:48:37</td>\n",
       "    </tr>\n",
       "    <tr>\n",
       "      <th>2</th>\n",
       "      <td>8.00</td>\n",
       "      <td>1.336</td>\n",
       "      <td>25580</td>\n",
       "      <td>2023-08-24 14:48:42</td>\n",
       "    </tr>\n",
       "    <tr>\n",
       "      <th>3</th>\n",
       "      <td>10.00</td>\n",
       "      <td>1.348</td>\n",
       "      <td>25438</td>\n",
       "      <td>2023-08-24 14:48:46</td>\n",
       "    </tr>\n",
       "    <tr>\n",
       "      <th>4</th>\n",
       "      <td>12.00</td>\n",
       "      <td>1.330</td>\n",
       "      <td>25648</td>\n",
       "      <td>2023-08-24 14:48:51</td>\n",
       "    </tr>\n",
       "    <tr>\n",
       "      <th>...</th>\n",
       "      <td>...</td>\n",
       "      <td>...</td>\n",
       "      <td>...</td>\n",
       "      <td>...</td>\n",
       "    </tr>\n",
       "    <tr>\n",
       "      <th>67</th>\n",
       "      <td>138.00</td>\n",
       "      <td>1.469</td>\n",
       "      <td>24043</td>\n",
       "      <td>2023-08-24 14:55:41</td>\n",
       "    </tr>\n",
       "    <tr>\n",
       "      <th>68</th>\n",
       "      <td>140.00</td>\n",
       "      <td>1.446</td>\n",
       "      <td>24299</td>\n",
       "      <td>2023-08-24 14:55:46</td>\n",
       "    </tr>\n",
       "    <tr>\n",
       "      <th>69</th>\n",
       "      <td>142.00</td>\n",
       "      <td>1.443</td>\n",
       "      <td>24341</td>\n",
       "      <td>2023-08-24 14:55:51</td>\n",
       "    </tr>\n",
       "    <tr>\n",
       "      <th>70</th>\n",
       "      <td>144.00</td>\n",
       "      <td>1.444</td>\n",
       "      <td>24324</td>\n",
       "      <td>2023-08-24 14:55:56</td>\n",
       "    </tr>\n",
       "    <tr>\n",
       "      <th>71</th>\n",
       "      <td>146.00</td>\n",
       "      <td>1.406</td>\n",
       "      <td>24754</td>\n",
       "      <td>2023-08-24 14:56:01</td>\n",
       "    </tr>\n",
       "  </tbody>\n",
       "</table>\n",
       "<p>72 rows × 4 columns</p>\n",
       "</div>"
      ],
      "text/plain": [
       "    offset density_bulk_gra total_counts_sec            timestamp\n",
       "0     4.00            1.263            26457  2023-08-24 14:48:33\n",
       "1     6.00            1.264            26439  2023-08-24 14:48:37\n",
       "2     8.00            1.336            25580  2023-08-24 14:48:42\n",
       "3    10.00            1.348            25438  2023-08-24 14:48:46\n",
       "4    12.00            1.330            25648  2023-08-24 14:48:51\n",
       "..     ...              ...              ...                  ...\n",
       "67  138.00            1.469            24043  2023-08-24 14:55:41\n",
       "68  140.00            1.446            24299  2023-08-24 14:55:46\n",
       "69  142.00            1.443            24341  2023-08-24 14:55:51\n",
       "70  144.00            1.444            24324  2023-08-24 14:55:56\n",
       "71  146.00            1.406            24754  2023-08-24 14:56:01\n",
       "\n",
       "[72 rows x 4 columns]"
      ]
     },
     "execution_count": 16,
     "metadata": {},
     "output_type": "execute_result"
    }
   ],
   "source": [
    "file = './data/input/GRA/400-U1603A-1H-1_20230824145601.GRA'\n",
    "df = utils.read_instrument_file(file,as_dataframe=False)\n",
    "pd.DataFrame(df['MULTI'])"
   ]
  },
  {
   "cell_type": "markdown",
   "metadata": {},
   "source": [
    "## Read GRA .ini files"
   ]
  },
  {
   "cell_type": "code",
   "execution_count": 67,
   "metadata": {},
   "outputs": [
    {
     "data": {
      "application/vnd.microsoft.datawrangler.viewer.v0+json": {
       "columns": [
        {
         "name": "key",
         "rawType": "object",
         "type": "string"
        },
        {
         "name": "value",
         "rawType": "object",
         "type": "string"
        }
       ],
       "conversionMethod": "pd.DataFrame",
       "ref": "9a04395e-33ea-4aba-841c-abe67cfc151a",
       "rows": [
        [
         "mgi rwa section options",
         "2.0.1 %04Y%02m%02d %02H%02M%S%25u*~\u001b|.\u0017%d*~\u001b|.\u0017,*~\u001b|.\u0017%#_13g"
        ],
        [
         "ims framework-major",
         "14"
        ],
        [
         "ims framework-minor",
         "0"
        ],
        [
         "plugin-major",
         "0"
        ],
        [
         "plugin-minor",
         "0"
        ],
        [
         "mgi rwa section options",
         "2.0.1 %04Y%02m%02d %02H%02M%S%25u*~\u001b|.\u0017%d*~\u001b|.\u0017,*~\u001b|.\u0017%#_13g"
        ],
        [
         "instrument",
         "<1>"
        ],
        [
         "instrument 0.instrument.primary",
         "FALSE"
        ],
        [
         "instrument 0.instrument.group",
         "WRMSL"
        ],
        [
         "instrument 0.instrument.s-n",
         "15340"
        ],
        [
         "instrument 0.instrument.model",
         "ORTEC digiBASE"
        ],
        [
         "instrument 0.instrument.analysis",
         "GRA"
        ],
        [
         "instrument 0.instrument.full name",
         "GRA"
        ],
        [
         "instrument 0.instrument.menu name",
         "GRA"
        ],
        [
         "instrument 0.instrument.manufacture",
         "Ortec"
        ],
        [
         "instrument 0.instrument.offset",
         "191.64"
        ],
        [
         "instrument 0.instrument.sensor width",
         "0.5"
        ],
        [
         "instrument 0.instrument.contact width",
         "0.5"
        ],
        [
         "daq.mode",
         "By Position"
        ],
        [
         "daq.interval cm",
         "2"
        ],
        [
         "daq.lead_trail cm",
         "0"
        ],
        [
         "daq.period_daqs",
         "3"
        ],
        [
         "daq.edge offset cm",
         "2"
        ],
        [
         "daq.drift? (t)",
         "FALSE"
        ],
        [
         "daq.background? (t)",
         "FALSE"
        ],
        [
         "daq.control? (t)",
         "TRUE"
        ],
        [
         "daq.method",
         "Single"
        ],
        [
         "daq.limit 1",
         "0"
        ],
        [
         "daq.limit 2",
         "0"
        ],
        [
         "daq.settling time",
         "0"
        ],
        [
         "daq.start offset cm",
         "0"
        ],
        [
         "daq.ngr mode",
         "2 Positions"
        ],
        [
         "daq.calib.interval cm",
         "0"
        ],
        [
         "daq.calib.lead_trail cm",
         "0"
        ],
        [
         "daq.calib.period_daqs",
         "0"
        ],
        [
         "daq.calib.edge offset cm",
         "0"
        ],
        [
         "daq.bkgnd.interval cm",
         "0"
        ],
        [
         "daq.bkgnd.lead_trail cm",
         "0"
        ],
        [
         "daq.bkgnd.period_daqs",
         "0"
        ],
        [
         "daq.bkgnd.edge offset cm",
         "0"
        ],
        [
         "daq.util_1.interval cm",
         "0"
        ],
        [
         "daq.util_1.lead_trail cm",
         "0"
        ],
        [
         "daq.util_1.period_daqs",
         "0"
        ],
        [
         "daq.util_1.edge offset cm",
         "0"
        ],
        [
         "daq.util_2.interval cm",
         "0"
        ],
        [
         "daq.util_2.lead_trail cm",
         "0"
        ],
        [
         "daq.util_2.period_daqs",
         "0"
        ],
        [
         "daq.util_2.edge offset cm",
         "0"
        ],
        [
         "daq.util_3.interval cm",
         "0"
        ],
        [
         "daq.util_3.lead_trail cm",
         "0"
        ]
       ],
       "shape": {
        "columns": 1,
        "rows": 209
       }
      },
      "text/html": [
       "<div>\n",
       "<style scoped>\n",
       "    .dataframe tbody tr th:only-of-type {\n",
       "        vertical-align: middle;\n",
       "    }\n",
       "\n",
       "    .dataframe tbody tr th {\n",
       "        vertical-align: top;\n",
       "    }\n",
       "\n",
       "    .dataframe thead th {\n",
       "        text-align: right;\n",
       "    }\n",
       "</style>\n",
       "<table border=\"1\" class=\"dataframe\">\n",
       "  <thead>\n",
       "    <tr style=\"text-align: right;\">\n",
       "      <th></th>\n",
       "      <th>value</th>\n",
       "    </tr>\n",
       "    <tr>\n",
       "      <th>key</th>\n",
       "      <th></th>\n",
       "    </tr>\n",
       "  </thead>\n",
       "  <tbody>\n",
       "    <tr>\n",
       "      <th>mgi rwa section options</th>\n",
       "      <td>2.0.1 %04Y%02m%02d %02H%02M%S%25u*~\u001b|.\u0017%d*~\u001b|....</td>\n",
       "    </tr>\n",
       "    <tr>\n",
       "      <th>ims framework-major</th>\n",
       "      <td>14</td>\n",
       "    </tr>\n",
       "    <tr>\n",
       "      <th>ims framework-minor</th>\n",
       "      <td>0</td>\n",
       "    </tr>\n",
       "    <tr>\n",
       "      <th>plugin-major</th>\n",
       "      <td>0</td>\n",
       "    </tr>\n",
       "    <tr>\n",
       "      <th>plugin-minor</th>\n",
       "      <td>0</td>\n",
       "    </tr>\n",
       "    <tr>\n",
       "      <th>...</th>\n",
       "      <td>...</td>\n",
       "    </tr>\n",
       "    <tr>\n",
       "      <th>background data paths .calibration paths</th>\n",
       "      <td>&lt;0&gt;</td>\n",
       "    </tr>\n",
       "    <tr>\n",
       "      <th>background data paths .raw data paths</th>\n",
       "      <td>&lt;0&gt;</td>\n",
       "    </tr>\n",
       "    <tr>\n",
       "      <th>density</th>\n",
       "      <td>0.9814619432569</td>\n",
       "    </tr>\n",
       "    <tr>\n",
       "      <th>un-calibrated density</th>\n",
       "      <td>10.31344256592</td>\n",
       "    </tr>\n",
       "    <tr>\n",
       "      <th>track type?</th>\n",
       "      <td>WRMSL</td>\n",
       "    </tr>\n",
       "  </tbody>\n",
       "</table>\n",
       "<p>209 rows × 1 columns</p>\n",
       "</div>"
      ],
      "text/plain": [
       "                                                                                      value\n",
       "key                                                                                        \n",
       "mgi rwa section options                   2.0.1 %04Y%02m%02d %02H%02M%S%25u*~\u001b|.\u0017%d*~\u001b|....\n",
       "ims framework-major                                                                      14\n",
       "ims framework-minor                                                                       0\n",
       "plugin-major                                                                              0\n",
       "plugin-minor                                                                              0\n",
       "...                                                                                     ...\n",
       "background data paths .calibration paths                                                <0>\n",
       "background data paths .raw data paths                                                   <0>\n",
       "density                                                                     0.9814619432569\n",
       "un-calibrated density                                                        10.31344256592\n",
       "track type?                                                                           WRMSL\n",
       "\n",
       "[209 rows x 1 columns]"
      ]
     },
     "execution_count": 67,
     "metadata": {},
     "output_type": "execute_result"
    }
   ],
   "source": [
    "file = './data/input/GRA/i_pi_gra.ini'\n",
    "df = utils.read_instrument_ini(file,as_dataframe=True)\n",
    "df"
   ]
  },
  {
   "cell_type": "markdown",
   "metadata": {},
   "source": [
    "# Exploring GRA"
   ]
  },
  {
   "cell_type": "code",
   "execution_count": 27,
   "metadata": {},
   "outputs": [
    {
     "data": {
      "application/vnd.microsoft.datawrangler.viewer.v0+json": {
       "columns": [
        {
         "name": "index",
         "rawType": "int64",
         "type": "integer"
        },
        {
         "name": "datetime",
         "rawType": "object",
         "type": "string"
        },
        {
         "name": "labelid",
         "rawType": "object",
         "type": "string"
        },
        {
         "name": "user",
         "rawType": "object",
         "type": "string"
        },
        {
         "name": "text_id",
         "rawType": "object",
         "type": "string"
        },
        {
         "name": "instrument",
         "rawType": "object",
         "type": "string"
        },
        {
         "name": "instrument_group",
         "rawType": "object",
         "type": "string"
        },
        {
         "name": "observed_length",
         "rawType": "object",
         "type": "string"
        },
        {
         "name": "comment",
         "rawType": "object",
         "type": "string"
        },
        {
         "name": "period",
         "rawType": "object",
         "type": "string"
        },
        {
         "name": "slope",
         "rawType": "object",
         "type": "string"
        },
        {
         "name": "intercept",
         "rawType": "object",
         "type": "string"
        },
        {
         "name": "r_value",
         "rawType": "object",
         "type": "string"
        },
        {
         "name": "core_diameter",
         "rawType": "object",
         "type": "string"
        },
        {
         "name": "calibration_timestamp",
         "rawType": "object",
         "type": "string"
        },
        {
         "name": "config",
         "rawType": "object",
         "type": "string"
        },
        {
         "name": "positions_excluded",
         "rawType": "object",
         "type": "string"
        },
        {
         "name": "offset",
         "rawType": "object",
         "type": "string"
        },
        {
         "name": "density_bulk_gra",
         "rawType": "object",
         "type": "string"
        },
        {
         "name": "total_counts_sec",
         "rawType": "object",
         "type": "string"
        },
        {
         "name": "timestamp",
         "rawType": "object",
         "type": "string"
        }
       ],
       "conversionMethod": "pd.DataFrame",
       "ref": "0bb541d4-5c82-46e7-92d3-a6779dbe3afc",
       "rows": [
        [
         "0",
         "2023-08-24 14:56:01 UTC",
         "400-U1603A-1H-1",
         "JR_PINERO",
         "SECT12641451",
         "0) ORTEC MODEL: ORTEC DIGIBASE S/N: 15340",
         "WRMSL",
         "151.60",
         "",
         "3.000",
         "-2.160534",
         "23.264003",
         "0.999791",
         "6.600",
         "2023-08-23 00:27:33",
         "c:\\ims\\config_wrmsl\\i_pi_gra.ini",
         "FALSE",
         "4.00",
         "1.263",
         "26457",
         "2023-08-24 14:48:33"
        ],
        [
         "1",
         "2023-08-24 14:56:01 UTC",
         "400-U1603A-1H-1",
         "JR_PINERO",
         "SECT12641451",
         "0) ORTEC MODEL: ORTEC DIGIBASE S/N: 15340",
         "WRMSL",
         "151.60",
         "",
         "3.000",
         "-2.160534",
         "23.264003",
         "0.999791",
         "6.600",
         "2023-08-23 00:27:33",
         "c:\\ims\\config_wrmsl\\i_pi_gra.ini",
         "FALSE",
         "6.00",
         "1.264",
         "26439",
         "2023-08-24 14:48:37"
        ],
        [
         "2",
         "2023-08-24 14:56:01 UTC",
         "400-U1603A-1H-1",
         "JR_PINERO",
         "SECT12641451",
         "0) ORTEC MODEL: ORTEC DIGIBASE S/N: 15340",
         "WRMSL",
         "151.60",
         "",
         "3.000",
         "-2.160534",
         "23.264003",
         "0.999791",
         "6.600",
         "2023-08-23 00:27:33",
         "c:\\ims\\config_wrmsl\\i_pi_gra.ini",
         "FALSE",
         "8.00",
         "1.336",
         "25580",
         "2023-08-24 14:48:42"
        ],
        [
         "3",
         "2023-08-24 14:56:01 UTC",
         "400-U1603A-1H-1",
         "JR_PINERO",
         "SECT12641451",
         "0) ORTEC MODEL: ORTEC DIGIBASE S/N: 15340",
         "WRMSL",
         "151.60",
         "",
         "3.000",
         "-2.160534",
         "23.264003",
         "0.999791",
         "6.600",
         "2023-08-23 00:27:33",
         "c:\\ims\\config_wrmsl\\i_pi_gra.ini",
         "FALSE",
         "10.00",
         "1.348",
         "25438",
         "2023-08-24 14:48:46"
        ],
        [
         "4",
         "2023-08-24 14:56:01 UTC",
         "400-U1603A-1H-1",
         "JR_PINERO",
         "SECT12641451",
         "0) ORTEC MODEL: ORTEC DIGIBASE S/N: 15340",
         "WRMSL",
         "151.60",
         "",
         "3.000",
         "-2.160534",
         "23.264003",
         "0.999791",
         "6.600",
         "2023-08-23 00:27:33",
         "c:\\ims\\config_wrmsl\\i_pi_gra.ini",
         "FALSE",
         "12.00",
         "1.330",
         "25648",
         "2023-08-24 14:48:51"
        ]
       ],
       "shape": {
        "columns": 20,
        "rows": 5
       }
      },
      "text/html": [
       "<div>\n",
       "<style scoped>\n",
       "    .dataframe tbody tr th:only-of-type {\n",
       "        vertical-align: middle;\n",
       "    }\n",
       "\n",
       "    .dataframe tbody tr th {\n",
       "        vertical-align: top;\n",
       "    }\n",
       "\n",
       "    .dataframe thead th {\n",
       "        text-align: right;\n",
       "    }\n",
       "</style>\n",
       "<table border=\"1\" class=\"dataframe\">\n",
       "  <thead>\n",
       "    <tr style=\"text-align: right;\">\n",
       "      <th></th>\n",
       "      <th>datetime</th>\n",
       "      <th>labelid</th>\n",
       "      <th>user</th>\n",
       "      <th>text_id</th>\n",
       "      <th>instrument</th>\n",
       "      <th>instrument_group</th>\n",
       "      <th>observed_length</th>\n",
       "      <th>comment</th>\n",
       "      <th>period</th>\n",
       "      <th>slope</th>\n",
       "      <th>intercept</th>\n",
       "      <th>r_value</th>\n",
       "      <th>core_diameter</th>\n",
       "      <th>calibration_timestamp</th>\n",
       "      <th>config</th>\n",
       "      <th>positions_excluded</th>\n",
       "      <th>offset</th>\n",
       "      <th>density_bulk_gra</th>\n",
       "      <th>total_counts_sec</th>\n",
       "      <th>timestamp</th>\n",
       "    </tr>\n",
       "  </thead>\n",
       "  <tbody>\n",
       "    <tr>\n",
       "      <th>0</th>\n",
       "      <td>2023-08-24 14:56:01 UTC</td>\n",
       "      <td>400-U1603A-1H-1</td>\n",
       "      <td>JR_PINERO</td>\n",
       "      <td>SECT12641451</td>\n",
       "      <td>0) ORTEC MODEL: ORTEC DIGIBASE S/N: 15340</td>\n",
       "      <td>WRMSL</td>\n",
       "      <td>151.60</td>\n",
       "      <td></td>\n",
       "      <td>3.000</td>\n",
       "      <td>-2.160534</td>\n",
       "      <td>23.264003</td>\n",
       "      <td>0.999791</td>\n",
       "      <td>6.600</td>\n",
       "      <td>2023-08-23 00:27:33</td>\n",
       "      <td>c:\\ims\\config_wrmsl\\i_pi_gra.ini</td>\n",
       "      <td>FALSE</td>\n",
       "      <td>4.00</td>\n",
       "      <td>1.263</td>\n",
       "      <td>26457</td>\n",
       "      <td>2023-08-24 14:48:33</td>\n",
       "    </tr>\n",
       "    <tr>\n",
       "      <th>1</th>\n",
       "      <td>2023-08-24 14:56:01 UTC</td>\n",
       "      <td>400-U1603A-1H-1</td>\n",
       "      <td>JR_PINERO</td>\n",
       "      <td>SECT12641451</td>\n",
       "      <td>0) ORTEC MODEL: ORTEC DIGIBASE S/N: 15340</td>\n",
       "      <td>WRMSL</td>\n",
       "      <td>151.60</td>\n",
       "      <td></td>\n",
       "      <td>3.000</td>\n",
       "      <td>-2.160534</td>\n",
       "      <td>23.264003</td>\n",
       "      <td>0.999791</td>\n",
       "      <td>6.600</td>\n",
       "      <td>2023-08-23 00:27:33</td>\n",
       "      <td>c:\\ims\\config_wrmsl\\i_pi_gra.ini</td>\n",
       "      <td>FALSE</td>\n",
       "      <td>6.00</td>\n",
       "      <td>1.264</td>\n",
       "      <td>26439</td>\n",
       "      <td>2023-08-24 14:48:37</td>\n",
       "    </tr>\n",
       "    <tr>\n",
       "      <th>2</th>\n",
       "      <td>2023-08-24 14:56:01 UTC</td>\n",
       "      <td>400-U1603A-1H-1</td>\n",
       "      <td>JR_PINERO</td>\n",
       "      <td>SECT12641451</td>\n",
       "      <td>0) ORTEC MODEL: ORTEC DIGIBASE S/N: 15340</td>\n",
       "      <td>WRMSL</td>\n",
       "      <td>151.60</td>\n",
       "      <td></td>\n",
       "      <td>3.000</td>\n",
       "      <td>-2.160534</td>\n",
       "      <td>23.264003</td>\n",
       "      <td>0.999791</td>\n",
       "      <td>6.600</td>\n",
       "      <td>2023-08-23 00:27:33</td>\n",
       "      <td>c:\\ims\\config_wrmsl\\i_pi_gra.ini</td>\n",
       "      <td>FALSE</td>\n",
       "      <td>8.00</td>\n",
       "      <td>1.336</td>\n",
       "      <td>25580</td>\n",
       "      <td>2023-08-24 14:48:42</td>\n",
       "    </tr>\n",
       "    <tr>\n",
       "      <th>3</th>\n",
       "      <td>2023-08-24 14:56:01 UTC</td>\n",
       "      <td>400-U1603A-1H-1</td>\n",
       "      <td>JR_PINERO</td>\n",
       "      <td>SECT12641451</td>\n",
       "      <td>0) ORTEC MODEL: ORTEC DIGIBASE S/N: 15340</td>\n",
       "      <td>WRMSL</td>\n",
       "      <td>151.60</td>\n",
       "      <td></td>\n",
       "      <td>3.000</td>\n",
       "      <td>-2.160534</td>\n",
       "      <td>23.264003</td>\n",
       "      <td>0.999791</td>\n",
       "      <td>6.600</td>\n",
       "      <td>2023-08-23 00:27:33</td>\n",
       "      <td>c:\\ims\\config_wrmsl\\i_pi_gra.ini</td>\n",
       "      <td>FALSE</td>\n",
       "      <td>10.00</td>\n",
       "      <td>1.348</td>\n",
       "      <td>25438</td>\n",
       "      <td>2023-08-24 14:48:46</td>\n",
       "    </tr>\n",
       "    <tr>\n",
       "      <th>4</th>\n",
       "      <td>2023-08-24 14:56:01 UTC</td>\n",
       "      <td>400-U1603A-1H-1</td>\n",
       "      <td>JR_PINERO</td>\n",
       "      <td>SECT12641451</td>\n",
       "      <td>0) ORTEC MODEL: ORTEC DIGIBASE S/N: 15340</td>\n",
       "      <td>WRMSL</td>\n",
       "      <td>151.60</td>\n",
       "      <td></td>\n",
       "      <td>3.000</td>\n",
       "      <td>-2.160534</td>\n",
       "      <td>23.264003</td>\n",
       "      <td>0.999791</td>\n",
       "      <td>6.600</td>\n",
       "      <td>2023-08-23 00:27:33</td>\n",
       "      <td>c:\\ims\\config_wrmsl\\i_pi_gra.ini</td>\n",
       "      <td>FALSE</td>\n",
       "      <td>12.00</td>\n",
       "      <td>1.330</td>\n",
       "      <td>25648</td>\n",
       "      <td>2023-08-24 14:48:51</td>\n",
       "    </tr>\n",
       "  </tbody>\n",
       "</table>\n",
       "</div>"
      ],
      "text/plain": [
       "                  datetime          labelid       user       text_id  \\\n",
       "0  2023-08-24 14:56:01 UTC  400-U1603A-1H-1  JR_PINERO  SECT12641451   \n",
       "1  2023-08-24 14:56:01 UTC  400-U1603A-1H-1  JR_PINERO  SECT12641451   \n",
       "2  2023-08-24 14:56:01 UTC  400-U1603A-1H-1  JR_PINERO  SECT12641451   \n",
       "3  2023-08-24 14:56:01 UTC  400-U1603A-1H-1  JR_PINERO  SECT12641451   \n",
       "4  2023-08-24 14:56:01 UTC  400-U1603A-1H-1  JR_PINERO  SECT12641451   \n",
       "\n",
       "                                  instrument instrument_group observed_length  \\\n",
       "0  0) ORTEC MODEL: ORTEC DIGIBASE S/N: 15340            WRMSL          151.60   \n",
       "1  0) ORTEC MODEL: ORTEC DIGIBASE S/N: 15340            WRMSL          151.60   \n",
       "2  0) ORTEC MODEL: ORTEC DIGIBASE S/N: 15340            WRMSL          151.60   \n",
       "3  0) ORTEC MODEL: ORTEC DIGIBASE S/N: 15340            WRMSL          151.60   \n",
       "4  0) ORTEC MODEL: ORTEC DIGIBASE S/N: 15340            WRMSL          151.60   \n",
       "\n",
       "  comment period      slope  intercept   r_value core_diameter  \\\n",
       "0          3.000  -2.160534  23.264003  0.999791         6.600   \n",
       "1          3.000  -2.160534  23.264003  0.999791         6.600   \n",
       "2          3.000  -2.160534  23.264003  0.999791         6.600   \n",
       "3          3.000  -2.160534  23.264003  0.999791         6.600   \n",
       "4          3.000  -2.160534  23.264003  0.999791         6.600   \n",
       "\n",
       "  calibration_timestamp                            config positions_excluded  \\\n",
       "0   2023-08-23 00:27:33  c:\\ims\\config_wrmsl\\i_pi_gra.ini              FALSE   \n",
       "1   2023-08-23 00:27:33  c:\\ims\\config_wrmsl\\i_pi_gra.ini              FALSE   \n",
       "2   2023-08-23 00:27:33  c:\\ims\\config_wrmsl\\i_pi_gra.ini              FALSE   \n",
       "3   2023-08-23 00:27:33  c:\\ims\\config_wrmsl\\i_pi_gra.ini              FALSE   \n",
       "4   2023-08-23 00:27:33  c:\\ims\\config_wrmsl\\i_pi_gra.ini              FALSE   \n",
       "\n",
       "  offset density_bulk_gra total_counts_sec            timestamp  \n",
       "0   4.00            1.263            26457  2023-08-24 14:48:33  \n",
       "1   6.00            1.264            26439  2023-08-24 14:48:37  \n",
       "2   8.00            1.336            25580  2023-08-24 14:48:42  \n",
       "3  10.00            1.348            25438  2023-08-24 14:48:46  \n",
       "4  12.00            1.330            25648  2023-08-24 14:48:51  "
      ]
     },
     "execution_count": 27,
     "metadata": {},
     "output_type": "execute_result"
    }
   ],
   "source": [
    "file = './data/input/GRA/400-U1603A-1H-1_20230824145601.GRA'\n",
    "df = utils.read_instrument_file(file,as_dataframe=True)\n",
    "df.head()"
   ]
  },
  {
   "cell_type": "code",
   "execution_count": 63,
   "metadata": {},
   "outputs": [
    {
     "data": {
      "text/plain": [
       "[]"
      ]
     },
     "execution_count": 63,
     "metadata": {},
     "output_type": "execute_result"
    },
    {
     "data": {
      "image/png": "[encoded data removed]",
      "text/plain": [
       "<Figure size 1000x1000 with 1 Axes>"
      ]
     },
     "metadata": {},
     "output_type": "display_data"
    }
   ],
   "source": [
    "fig, ax = plt.subplots(1,1, figsize=(10,10))\n",
    "\n",
    "x = df[\"density_bulk_gra\"].astype(float)\n",
    "y = df['offset'].astype(float)\n",
    "\n",
    "ax.scatter(\n",
    "    x=x,\n",
    "    y=y,\n",
    "    label='data',\n",
    "    color='blue',\n",
    "    edgecolor='black'\n",
    ")\n",
    "\n",
    "windowsize = 5\n",
    "ax.plot(\n",
    "    utils.convolve(x,windowsize),\n",
    "    y,\n",
    "    label=f'avg {windowsize} pts'\n",
    ")\n",
    "\n",
    "\n",
    "ax.invert_yaxis()\n",
    "ax.set_ylabel(\"offset (cm)\")\n",
    "ax.set_xlabel(\"density_bulk_gra\")\n",
    "ax.set_title(f\"{df['labelid'][0]}\")\n",
    "ax.legend()\n",
    "plt.plot()"
   ]
  },
  {
   "cell_type": "code",
   "execution_count": 62,
   "metadata": {},
   "outputs": [
    {
     "data": {
      "image/png": "[encoded data removed]",
      "text/plain": [
       "<Figure size 1000x600 with 1 Axes>"
      ]
     },
     "metadata": {},
     "output_type": "display_data"
    }
   ],
   "source": [
    "df['total_counts_sec'].astype(int)\n",
    "plt.figure(figsize=(10, 6))\n",
    "df['total_counts_sec'].astype(int).plot(kind='hist', bins=30, alpha=0.7, color='blue', edgecolor='black')\n",
    "plt.title('Distribution of Total Counts per Second')\n",
    "plt.xlabel('Total Counts per Second')\n",
    "plt.ylabel('Frequency')\n",
    "plt.grid(axis='y', alpha=0.75)\n",
    "plt.show()"
   ]
  },
  {
   "cell_type": "code",
   "execution_count": 65,
   "metadata": {},
   "outputs": [
    {
     "data": {
      "image/png": "[encoded data removed]",
      "text/plain": [
       "<Figure size 1000x600 with 1 Axes>"
      ]
     },
     "metadata": {},
     "output_type": "display_data"
    }
   ],
   "source": [
    "plt.figure(figsize=(10, 6))\n",
    "plt.scatter(x = df['total_counts_sec'].astype(int), y=df['density_bulk_gra'].astype(float))\n",
    "\n",
    "plt.title('Distribution of Total Counts per Second')\n",
    "plt.xlabel('Total Counts per Second')\n",
    "plt.ylabel('Frequency')\n",
    "plt.grid(axis='y', alpha=0.75)\n",
    "plt.show()"
   ]
  }
 ],
 "metadata": {
  "kernelspec": {
   "display_name": "sod",
   "language": "python",
   "name": "python3"
  },
  "language_info": {
   "codemirror_mode": {
    "name": "ipython",
    "version": 3
   },
   "file_extension": ".py",
   "mimetype": "text/x-python",
   "name": "python",
   "nbconvert_exporter": "python",
   "pygments_lexer": "ipython3",
   "version": "3.13.2"
  }
 },
 "nbformat": 4,
 "nbformat_minor": 2
}
